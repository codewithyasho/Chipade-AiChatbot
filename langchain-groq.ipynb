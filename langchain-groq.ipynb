{
 "cells": [
  {
   "cell_type": "code",
   "execution_count": 10,
   "id": "6f32562e",
   "metadata": {},
   "outputs": [
    {
     "data": {
      "text/plain": [
       "True"
      ]
     },
     "execution_count": 10,
     "metadata": {},
     "output_type": "execute_result"
    }
   ],
   "source": [
    "from langchain_groq import ChatGroq\n",
    "import os\n",
    "from dotenv import load_dotenv\n",
    "load_dotenv()"
   ]
  },
  {
   "cell_type": "code",
   "execution_count": 11,
   "id": "573ba41c",
   "metadata": {},
   "outputs": [
    {
     "name": "stdout",
     "output_type": "stream",
     "text": [
      "The capital of France is **Paris**.\n"
     ]
    }
   ],
   "source": [
    "llm = ChatGroq(model=\"openai/gpt-oss-120b\", temperature=0.7)\n",
    "\n",
    "response = llm.invoke(\"capital of France?\")\n",
    "print(response.content)"
   ]
  },
  {
   "cell_type": "markdown",
   "id": "1e0267d8",
   "metadata": {},
   "source": [
    "## Prompt template\n"
   ]
  },
  {
   "cell_type": "code",
   "execution_count": 12,
   "id": "761335e9",
   "metadata": {},
   "outputs": [],
   "source": [
    "from langchain_core.prompts import PromptTemplate\n",
    "\n",
    "prompt = PromptTemplate(\n",
    "    template=\"What is the capital of {location}?\",\n",
    "    input_variables=[\"location\"]\n",
    ")"
   ]
  },
  {
   "cell_type": "code",
   "execution_count": 13,
   "id": "b00713a0",
   "metadata": {},
   "outputs": [
    {
     "name": "stdout",
     "output_type": "stream",
     "text": [
      "What is the capital of india?\n"
     ]
    }
   ],
   "source": [
    "formatted_prompt = prompt.format(location=\"india\")\n",
    "print(formatted_prompt)"
   ]
  },
  {
   "cell_type": "code",
   "execution_count": 14,
   "id": "b9088435",
   "metadata": {},
   "outputs": [
    {
     "name": "stdout",
     "output_type": "stream",
     "text": [
      "The capital of India is **New Delhi**.\n"
     ]
    }
   ],
   "source": [
    "response = llm.invoke(formatted_prompt)\n",
    "print(response.content)"
   ]
  },
  {
   "cell_type": "markdown",
   "id": "15248d14",
   "metadata": {},
   "source": [
    "## Creating and combining multiple chains"
   ]
  },
  {
   "cell_type": "code",
   "execution_count": 15,
   "id": "29383c75",
   "metadata": {},
   "outputs": [],
   "source": [
    "from langchain_core.output_parsers import StrOutputParser\n",
    "from langchain_core.runnables import RunnableLambda"
   ]
  },
  {
   "cell_type": "code",
   "execution_count": 16,
   "id": "29383c75",
   "metadata": {},
   "outputs": [],
   "source": [
    "prompt1 = PromptTemplate.from_template(\"What is the capital of {location}?\")\n",
    "\n",
    "prompt2 = PromptTemplate.from_template(\"suggest some best places to visit in {capital}.\")"
   ]
  },
  {
   "cell_type": "code",
   "execution_count": 17,
   "id": "d69474cc",
   "metadata": {},
   "outputs": [],
   "source": [
    "chain1 = prompt1 | llm | StrOutputParser()\n",
    "\n",
    "chain2 = prompt2 | llm | StrOutputParser()\n",
    "\n",
    "final_chain = chain1 | RunnableLambda(lambda capital: {\"capital\": capital}) | chain2"
   ]
  },
  {
   "cell_type": "code",
   "execution_count": 18,
   "id": "c7ee50b1",
   "metadata": {},
   "outputs": [
    {
     "name": "stdout",
     "output_type": "stream",
     "text": [
      "Here are some of the top attractions and must‑see spots in **Canberra**, Australia’s capital city. They cover history, nature, art, and a bit of fun, so you can tailor your itinerary to your interests.\n",
      "\n",
      "| # | Attraction | Why Visit? | Tips & Practical Info |\n",
      "|---|------------|------------|------------------------|\n",
      "| 1 | **Australian War Memorial** | One of the world’s most moving war museums, with a shrine, extensive galleries, and daily Last Post ceremony. | Arrive early to avoid crowds; free entry (donations welcome). Guided tours are available. |\n",
      "| 2 | **Parliament House** | The seat of Australian democracy. You can tour the chambers, see the impressive architecture, and enjoy panoramic views from the roof. | Book a free guided tour in advance (online). Dress smart‑casual for security. |\n",
      "| 3 | **National Gallery of Australia** | Holds the nation’s largest collection of Australian, Asian, and European art, including Indigenous masterpieces. | Look for free family‑friendly activities and the “First Nations” exhibition. |\n",
      "| 4 | **National Museum of Australia** | Engaging stories about Australian history, culture, and the environment—great for all ages. | Interactive displays are perfect for kids. Free entry; special exhibitions may have a fee. |\n",
      "| 5 | **Lake Burley Griffin** | The city’s central lake offers walking, cycling, paddle‑boarding, and scenic picnic spots. | Rent a bike or a paddle boat; sunrise and sunset are spectacular. |\n",
      "| 6 | **Mount Ainslie Lookout** | A short drive or hike up gives sweeping views of the city’s layout, the lake, and the surrounding hills. | Best visited at sunrise or sunset; bring a camera. |\n",
      "| 7 | **Australian National Botanic Gardens** | Over 1,500 native plant species displayed in beautiful themed gardens and walking trails. | Free entry; guided walks on weekends. |\n",
      "| 8 | **National Library of Australia** | Architectural landmark with exhibitions, reading rooms, and the famous “Reading Room” dome. | Free tours; check out the “Story of Australia” exhibition. |\n",
      "| 9 | **Questacon – The National Science and Technology Centre** | Hands‑on science exhibits, planetarium shows, and interactive demos—great for families. | Ticket prices are modest; allocate 2–3 hours. |\n",
      "|10| **Royal Australian Mint** | See how Australian coins are made and browse the souvenir shop for unique keepsakes. | Free guided tours (book online). |\n",
      "|11| **Canberra Centre & Braddon** | Shopping, cafés, and vibrant street art. Braddon’s laneways are especially lively at night. | Ideal for a relaxed lunch or evening drinks. |\n",
      "|12| **Tidbinbilla Nature Reserve** (≈45 km south) | Wilderness experience with koalas, kangaroos, and the famous “Mugga‑Mugga” waterfall. | Bring a picnic; allow 3–4 hours for a short hike and wildlife spotting. |\n",
      "|13| **Namadgi National Park** (≈45 km west) | Alpine scenery, Aboriginal rock art sites, and extensive walking tracks. | Best for day‑trippers who enjoy hiking or snow‑play in winter. |\n",
      "|14| **The National Portrait Gallery** | Portraits of notable Australians, ranging from historic figures to contemporary artists. | Free entry; rotating exhibitions keep it fresh. |\n",
      "|15| **Cockington Green Gardens** | Miniature world of detailed model villages and landscapes—quirky and photogenic. | Small entry fee; great for families and Instagram shots. |\n",
      "\n",
      "### How to Make the Most of Your Visit\n",
      "\n",
      "1. **Plan a “central” day** – Combine Parliament House, the Australian War Memorial, and Lake Burley Griffin (walk or bike around the lake) to cover history, politics, and scenery in one area.\n",
      "2. **Mix indoor and outdoor** – Canberra’s weather can shift quickly. Pair indoor museums (National Museum, Gallery) with outdoor spots (Mount Ainslie, Botanic Gardens) to stay comfortable.\n",
      "3. **Use public transport** – ACTION buses and the free “Canberra Connect” service connect most major attractions. Parking can be limited near the lake, so consider a park‑and‑ride.\n",
      "4. **Check for free events** – The city hosts regular markets (e.g., the Old Bus Depot Markets on Sundays), outdoor concerts, and cultural festivals, especially in the summer months (December–February).\n",
      "5. **Stay hydrated** – Even in mild weather, Canberra’s inland climate can be dry. Carry water, especially on hikes.\n",
      "\n",
      "### Sample 2‑Day Itinerary\n",
      "\n",
      "**Day 1 – City Core**  \n",
      "- Morning: Guided tour of **Parliament House**  \n",
      "- Mid‑morning: Walk across **Lake Burley Griffin** to the **Australian War Memorial** (spend 2–3 h)  \n",
      "- Lunch: Café at **Kingston** or **Braddon**  \n",
      "- Afternoon: **National Gallery of Australia** (focus on Indigenous art)  \n",
      "- Evening: Sunset from **Mount Ainslie Lookout**, dinner in the **Canberra Centre** district.\n",
      "\n",
      "**Day 2 – Nature & Culture**  \n",
      "- Early morning: Bike or walk around **Lake Burley Griffin** (rent a bike at the lake’s edge)  \n",
      "- Mid‑morning: **Australian National Botanic Gardens** (guided walk)  \n",
      "- Lunch: Picnic in the gardens or head to **Manuka** for a boutique café  \n",
      "- Afternoon: Choose either **Questacon** (science fun) or **National Museum of Australia** (history)  \n",
      "- Late afternoon: **Royal Australian Mint** tour (if time permits) or head to **Tidbinbilla** for a quick wildlife encounter.  \n",
      "\n",
      "Feel free to mix and match based on your interests, the season, and how much time you have. Enjoy your Canberra adventure!"
     ]
    }
   ],
   "source": [
    "# Stream word by word\n",
    "for chunk in final_chain.stream({\"location\": \"australia\"}):\n",
    "    print(chunk, end=\"\", flush=True)"
   ]
  },
  {
   "cell_type": "code",
   "execution_count": 21,
   "id": "718fa703",
   "metadata": {},
   "outputs": [],
   "source": [
    "from langchain_core.messages import SystemMessage, HumanMessage, AIMessage"
   ]
  },
  {
   "cell_type": "code",
   "execution_count": null,
   "id": "4f592233",
   "metadata": {},
   "outputs": [],
   "source": []
  }
 ],
 "metadata": {
  "kernelspec": {
   "display_name": "Python 3",
   "language": "python",
   "name": "python3"
  },
  "language_info": {
   "codemirror_mode": {
    "name": "ipython",
    "version": 3
   },
   "file_extension": ".py",
   "mimetype": "text/x-python",
   "name": "python",
   "nbconvert_exporter": "python",
   "pygments_lexer": "ipython3",
   "version": "3.13.9"
  }
 },
 "nbformat": 4,
 "nbformat_minor": 5
}
