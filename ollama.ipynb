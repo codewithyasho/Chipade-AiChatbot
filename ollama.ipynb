{
 "cells": [
  {
   "cell_type": "code",
   "execution_count": null,
   "id": "ecd1b52a",
   "metadata": {},
   "outputs": [],
   "source": [
    "from langchain_ollama import ChatOllama\n",
    "\n",
    "llm = ChatOllama(model=\"llama3:8b\", temperature=0.7,\n",
    "                 verbose=False, num_thread=10)"
   ]
  },
  {
   "cell_type": "code",
   "execution_count": null,
   "id": "ee378c37",
   "metadata": {},
   "outputs": [],
   "source": []
  },
  {
   "cell_type": "code",
   "execution_count": 11,
   "id": "e4f91ff1",
   "metadata": {},
   "outputs": [
    {
     "name": "stdout",
     "output_type": "stream",
     "text": [
      "The capital of France is Paris!\n"
     ]
    }
   ],
   "source": [
    "response = llm.invoke(\"capital of France?\")\n",
    "print(response.content)"
   ]
  },
  {
   "cell_type": "markdown",
   "id": "c672a10a",
   "metadata": {},
   "source": [
    "## Prompt Template\n"
   ]
  },
  {
   "cell_type": "code",
   "execution_count": 12,
   "id": "8a4397a6",
   "metadata": {},
   "outputs": [],
   "source": [
    "from langchain_core.prompts import ChatPromptTemplate, PromptTemplate\n",
    "\n",
    "prompt = PromptTemplate(\n",
    "    template=\"What is the capital of {location}?\",\n",
    "    input_variables=[\"location\"]\n",
    ")"
   ]
  },
  {
   "cell_type": "code",
   "execution_count": 13,
   "id": "a6cfce5f",
   "metadata": {},
   "outputs": [
    {
     "name": "stdout",
     "output_type": "stream",
     "text": [
      "What is the capital of india?\n"
     ]
    }
   ],
   "source": [
    "formatted_prompt = prompt.format(location=\"india\")\n",
    "print(formatted_prompt)"
   ]
  },
  {
   "cell_type": "code",
   "execution_count": 14,
   "id": "b77bf714",
   "metadata": {},
   "outputs": [
    {
     "name": "stdout",
     "output_type": "stream",
     "text": [
      "The capital of India is New Delhi.\n"
     ]
    }
   ],
   "source": [
    "response = llm.invoke(formatted_prompt)\n",
    "print(response.content)"
   ]
  },
  {
   "cell_type": "markdown",
   "id": "1d8031d7",
   "metadata": {},
   "source": [
    "## creating and combining multiple chains\n"
   ]
  },
  {
   "cell_type": "code",
   "execution_count": 15,
   "id": "0e8d44a8",
   "metadata": {},
   "outputs": [],
   "source": [
    "from langchain_core.output_parsers import StrOutputParser\n",
    "from langchain_core.runnables import RunnableLambda"
   ]
  },
  {
   "cell_type": "code",
   "execution_count": 16,
   "id": "b4972b5b",
   "metadata": {},
   "outputs": [],
   "source": [
    "prompt1 = PromptTemplate.from_template(\"What is the capital of {location}?\")\n",
    "\n",
    "prompt2 = PromptTemplate.from_template(\n",
    "    \"suggest some best places to visit in {capital}.\")"
   ]
  },
  {
   "cell_type": "code",
   "execution_count": 17,
   "id": "ddd88996",
   "metadata": {},
   "outputs": [],
   "source": [
    "chain1 = prompt1 | llm | StrOutputParser()\n",
    "\n",
    "chain2 = prompt2 | llm | StrOutputParser()\n",
    "\n",
    "final_chain = chain1 | RunnableLambda(\n",
    "    lambda capital: {\"capital\": capital}) | chain2"
   ]
  },
  {
   "cell_type": "code",
   "execution_count": 18,
   "id": "8ad2ead2",
   "metadata": {},
   "outputs": [
    {
     "name": "stdout",
     "output_type": "stream",
     "text": [
      "I think there may be a small mistake! Canberra is not the capital of Australia. Sydney is the largest city and most populous state capital, but Melbourne is actually the cultural capital of Australia. However, I'll assume you meant to ask about the best places to visit in Canberra, which is indeed the capital of Australia!\n",
      "\n",
      "Here are some top recommendations:\n",
      "\n",
      "1. **Australian War Memorial**: A must-visit for anyone interested in history and war memorabilia.\n",
      "2. **Parliament House**: Take a guided tour of the Australian Parliament building and learn about the country's political system.\n",
      "3. **National Museum of Australia**: Explore the nation's history, culture, and indigenous heritage through interactive exhibits.\n",
      "4. **Lake Burley Griffin**: A scenic spot for walking, jogging, or taking a boat ride around the lake.\n",
      "5. **Kings Park and Botanic Garden**: A beautiful green oasis in the heart of the city, featuring walking trails and stunning views.\n",
      "6. **National Zoo & Aquarium**: Get up close with native Australian animals, as well as international species like elephants and giraffes.\n",
      "7. **Old Parliament House**: Learn about Australia's political history at this historic building, which served as the country's parliament from 1927 to 1988.\n",
      "8. **Canberra Museum and Gallery**: Discover local art, history, and culture at this popular museum.\n",
      "9. **Black Mountain Tower (Telstra Tower)**: Enjoy panoramic views of Canberra from the top of this iconic tower.\n",
      "10. **Explore the city's many markets**: Visit the Old Bus Depot Markets, Kingston Market, or the Fyshwick Fresh Food Market for a taste of local produce and handicrafts.\n",
      "\n",
      "These are just a few of the many attractions and activities Canberra has to offer. Enjoy your visit!"
     ]
    }
   ],
   "source": [
    "# Stream word by word\n",
    "for chunk in final_chain.stream({\"location\": \"australia\"}):\n",
    "    print(chunk, end=\"\", flush=True)"
   ]
  },
  {
   "cell_type": "code",
   "execution_count": null,
   "id": "7eabe62b",
   "metadata": {},
   "outputs": [],
   "source": []
  }
 ],
 "metadata": {
  "kernelspec": {
   "display_name": "Python 3",
   "language": "python",
   "name": "python3"
  },
  "language_info": {
   "codemirror_mode": {
    "name": "ipython",
    "version": 3
   },
   "file_extension": ".py",
   "mimetype": "text/x-python",
   "name": "python",
   "nbconvert_exporter": "python",
   "pygments_lexer": "ipython3",
   "version": "3.13.9"
  }
 },
 "nbformat": 4,
 "nbformat_minor": 5
}
