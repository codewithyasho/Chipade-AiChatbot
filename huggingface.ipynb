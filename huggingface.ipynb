{
 "cells": [
  {
   "cell_type": "code",
   "execution_count": 9,
   "id": "ff1b0426",
   "metadata": {},
   "outputs": [],
   "source": [
    "import getpass\n",
    "import os\n",
    "from langchain_huggingface import ChatHuggingFace, HuggingFaceEndpoint\n",
    "\n",
    "if not os.getenv(\"HUGGINGFACEHUB_API_TOKEN\"):\n",
    "    os.environ[\"HUGGINGFACEHUB_API_TOKEN\"] = getpass.getpass(\n",
    "        \"Enter your token: \")"
   ]
  },
  {
   "cell_type": "code",
   "execution_count": 10,
   "id": "33745e3d",
   "metadata": {},
   "outputs": [],
   "source": [
    "llm = HuggingFaceEndpoint(\n",
    "    repo_id=\"deepseek-ai/DeepSeek-R1-0528\",\n",
    "    task=\"text-generation\",\n",
    "    provider=\"hyperbolic\",  # set your provider here\n",
    "    temperature=0, \n",
    "    max_new_tokens=512    \n",
    ")\n",
    "\n",
    "chat_model = ChatHuggingFace(llm=llm)"
   ]
  },
  {
   "cell_type": "code",
   "execution_count": 11,
   "id": "951a8d9e",
   "metadata": {},
   "outputs": [
    {
     "name": "stdout",
     "output_type": "stream",
     "text": [
      "<think>\n",
      "Okay, the user is asking about the capital of France. That's a straightforward geography question. \n",
      "\n",
      "Hmm, this seems like basic knowledge, but I shouldn't assume everyone knows it. Maybe they're a student doing homework, or someone verifying information. The tone is neutral, so no urgency or emotion detected. \n",
      "\n",
      "Paris is definitely the answer, but I should present it clearly. Adding the country name in parentheses avoids ambiguity since there are other places called Paris. \n",
      "\n",
      "No need for extra details unless they ask follow-ups. Keeping it concise respects their time. If they wanted more, they'd probably ask about landmarks or history. \n",
      "\n",
      "...Wait, is there any chance they meant something else? Like \"France\" being a typo? No, that seems unlikely. Better to answer directly. \n",
      "\n",
      "Done. Short, accurate, and polite.\n",
      "</think>\n",
      "The capital of France is **Paris**.  \n",
      "\n",
      "(Paris is not only the political center of France but also its largest city, renowned for landmarks like the Eiffel Tower, the Louvre Museum, and Notre-Dame Cathedral.)\n"
     ]
    }
   ],
   "source": [
    "response = chat_model.predict(\"What is the capital of France?\")\n",
    "print(response)"
   ]
  },
  {
   "cell_type": "code",
   "execution_count": null,
   "id": "fb33ae64",
   "metadata": {},
   "outputs": [],
   "source": []
  },
  {
   "cell_type": "code",
   "execution_count": null,
   "id": "fb8c3ce9",
   "metadata": {},
   "outputs": [],
   "source": []
  }
 ],
 "metadata": {
  "kernelspec": {
   "display_name": "Python 3",
   "language": "python",
   "name": "python3"
  },
  "language_info": {
   "codemirror_mode": {
    "name": "ipython",
    "version": 3
   },
   "file_extension": ".py",
   "mimetype": "text/x-python",
   "name": "python",
   "nbconvert_exporter": "python",
   "pygments_lexer": "ipython3",
   "version": "3.13.9"
  }
 },
 "nbformat": 4,
 "nbformat_minor": 5
}
